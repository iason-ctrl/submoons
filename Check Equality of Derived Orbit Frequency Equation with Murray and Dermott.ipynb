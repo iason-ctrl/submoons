{
 "cells": [
  {
   "cell_type": "code",
   "execution_count": 42,
   "id": "b2a96377-aa42-40c0-98d8-ebb769ca8468",
   "metadata": {},
   "outputs": [],
   "source": [
    "import sympy as sym\n",
    "\n",
    "# Define constant\n",
    "\n",
    "k_2_sm = sym.symbols(\"k_{2\\mathrm{sm}}\")\n",
    "m_sm = sym.symbols(\"m_{\\mathrm{sm}}\")\n",
    "m_m = sym.symbols(\"m_{\\mathrm{m}}\")\n",
    "G = sym.symbols(\"\\mathrm{G}\")\n",
    "R_sm = sym.symbols(\"R_{\\mathrm{sm}}\")\n",
    "a_sm = sym.symbols(\"a_{\\mathrm{sm}}\")\n",
    "alpha_sm = sym.symbols(\"α_{\\mathrm{sm}}\")\n",
    "sign = sym.symbols(\"\\mathrm{sgn}\")\n",
    "Q_sm = sym.symbols(\"Q_{\\mathrm{sm}}\")\n",
    "mu = sym.symbols(\"mu\") # standard gravitational parameter"
   ]
  },
  {
   "cell_type": "code",
   "execution_count": 43,
   "id": "472b7409-27f4-4ab3-af35-d781127624e0",
   "metadata": {},
   "outputs": [],
   "source": [
    "# define auxiliary constants and formulas (Kepler relation)\n",
    "I_sm = alpha_sm * m_sm * R_sm**2\n",
    "zeta = m_m / m_sm * ( R_sm / a_sm )**3 * R_sm\n",
    "epsilon_2 = sym.Rational(5,3) * zeta * k_2_sm * 1 / R_sm\n",
    "G = mu/(m_m+m_sm) # Gravitational constant\n",
    "n_sm = mu**sym.Rational(1,2) * a_sm**sym.Rational(-3,2) # kepler's third law\n"
   ]
  },
  {
   "cell_type": "code",
   "execution_count": 67,
   "id": "62915b64-aa4e-4d7e-b8a2-bec2c4c3543b",
   "metadata": {},
   "outputs": [
    {
     "data": {
      "text/latex": [
       "$\\displaystyle \\frac{3 R_{\\mathrm{sm}}^{5} \\mathrm{sgn} k_{2\\mathrm{sm}} m_{\\mathrm{m}}^{2} \\sqrt{\\mu}}{Q_{\\mathrm{sm}} a_{\\mathrm{sm}}^{\\frac{11}{2}} m_{\\mathrm{sm}} \\left(m_{\\mathrm{m}} + m_{\\mathrm{sm}}\\right)}$"
      ],
      "text/plain": [
       "3*R_{\\mathrm{sm}}**5*\\mathrm{sgn}*k_{2\\mathrm{sm}}*m_{\\mathrm{m}}**2*sqrt(mu)/(Q_{\\mathrm{sm}}*a_{\\mathrm{sm}}**(11/2)*m_{\\mathrm{sm}}*(m_{\\mathrm{m}} + m_{\\mathrm{sm}}))"
      ]
     },
     "execution_count": 67,
     "metadata": {},
     "output_type": "execute_result"
    }
   ],
   "source": [
    "# define expression derived from ELE for time derivative of spin frequency of submoon.\n",
    "expression_1 = a_sm**sym.Rational(1,2) / mu**sym.Rational(1,2) * sym.Rational(9,5) * epsilon_2 * (G*m_m)/(a_sm**3)*R_sm**2*sign*1/Q_sm\n",
    "expression_1"
   ]
  },
  {
   "cell_type": "code",
   "execution_count": 68,
   "id": "b2162c77-13b6-46a2-953b-70d972624bc1",
   "metadata": {},
   "outputs": [
    {
     "data": {
      "text/latex": [
       "$\\displaystyle \\frac{3 R_{\\mathrm{sm}}^{5} \\mathrm{sgn} k_{2\\mathrm{sm}} m_{\\mathrm{m}} \\sqrt{\\mu}}{Q_{\\mathrm{sm}} a_{\\mathrm{sm}}^{\\frac{11}{2}} m_{\\mathrm{sm}}}$"
      ],
      "text/plain": [
       "3*R_{\\mathrm{sm}}**5*\\mathrm{sgn}*k_{2\\mathrm{sm}}*m_{\\mathrm{m}}*sqrt(mu)/(Q_{\\mathrm{sm}}*a_{\\mathrm{sm}}**(11/2)*m_{\\mathrm{sm}})"
      ]
     },
     "execution_count": 68,
     "metadata": {},
     "output_type": "execute_result"
    }
   ],
   "source": [
    "# define expression derived in Murray and Dermott for time derivative of spin frequency of submoon.\n",
    "expression_2 = sign * 3 * k_2_sm / Q_sm * m_m / m_sm * (R_sm/a_sm)**5 * n_sm * a_sm\n",
    "expression_2"
   ]
  },
  {
   "cell_type": "code",
   "execution_count": 69,
   "id": "2c03ec9f-dadc-418f-a724-99f0bf0c8d4e",
   "metadata": {},
   "outputs": [
    {
     "data": {
      "text/latex": [
       "$\\displaystyle \\frac{3 R_{\\mathrm{sm}}^{5} \\mathrm{sgn} k_{2\\mathrm{sm}} m_{\\mathrm{m}}^{2} \\sqrt{\\mu}}{Q_{\\mathrm{sm}} a_{\\mathrm{sm}}^{\\frac{11}{2}} m_{\\mathrm{sm}} \\left(m_{\\mathrm{m}} + m_{\\mathrm{sm}}\\right)} - \\frac{3 R_{\\mathrm{sm}}^{5} \\mathrm{sgn} k_{2\\mathrm{sm}} m_{\\mathrm{m}} \\sqrt{\\mu}}{Q_{\\mathrm{sm}} a_{\\mathrm{sm}}^{\\frac{11}{2}} m_{\\mathrm{sm}}}$"
      ],
      "text/plain": [
       "3*R_{\\mathrm{sm}}**5*\\mathrm{sgn}*k_{2\\mathrm{sm}}*m_{\\mathrm{m}}**2*sqrt(mu)/(Q_{\\mathrm{sm}}*a_{\\mathrm{sm}}**(11/2)*m_{\\mathrm{sm}}*(m_{\\mathrm{m}} + m_{\\mathrm{sm}})) - 3*R_{\\mathrm{sm}}**5*\\mathrm{sgn}*k_{2\\mathrm{sm}}*m_{\\mathrm{m}}*sqrt(mu)/(Q_{\\mathrm{sm}}*a_{\\mathrm{sm}}**(11/2)*m_{\\mathrm{sm}})"
      ]
     },
     "execution_count": 69,
     "metadata": {},
     "output_type": "execute_result"
    }
   ],
   "source": [
    "expression_1-expression_2"
   ]
  },
  {
   "cell_type": "code",
   "execution_count": 71,
   "id": "92914bf3-22eb-462f-b091-c1486e763f0a",
   "metadata": {},
   "outputs": [
    {
     "data": {
      "text/latex": [
       "$\\displaystyle 0$"
      ],
      "text/plain": [
       "0"
      ]
     },
     "execution_count": 71,
     "metadata": {},
     "output_type": "execute_result"
    }
   ],
   "source": [
    "# Non trivial. => Approximate m_m+m_sm in 'expression_1' as 'm_sm'. To do this, divide out the sum in the denominator \n",
    "# and multiply with 1/m_m. \n",
    "expression_1_approximated = expression_1*(m_m+m_sm)/m_m\n",
    "expression_1_approximated-expression_2"
   ]
  },
  {
   "cell_type": "code",
   "execution_count": null,
   "id": "f11ed3c8-879a-48d2-9beb-720b2706d50d",
   "metadata": {},
   "outputs": [],
   "source": []
  }
 ],
 "metadata": {
  "kernelspec": {
   "display_name": "Python 3 (ipykernel)",
   "language": "python",
   "name": "python3"
  },
  "language_info": {
   "codemirror_mode": {
    "name": "ipython",
    "version": 3
   },
   "file_extension": ".py",
   "mimetype": "text/x-python",
   "name": "python",
   "nbconvert_exporter": "python",
   "pygments_lexer": "ipython3",
   "version": "3.8.8"
  }
 },
 "nbformat": 4,
 "nbformat_minor": 5
}
