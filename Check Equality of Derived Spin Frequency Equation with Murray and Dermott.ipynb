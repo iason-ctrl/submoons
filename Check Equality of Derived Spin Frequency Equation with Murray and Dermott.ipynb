{
 "cells": [
  {
   "cell_type": "code",
   "execution_count": 76,
   "id": "b2a96377-aa42-40c0-98d8-ebb769ca8468",
   "metadata": {},
   "outputs": [],
   "source": [
    "import sympy as sym\n",
    "\n",
    "# Define constant\n",
    "\n",
    "k_2_sm = sym.symbols(\"k_{2\\mathrm{sm}}\")\n",
    "m_sm = sym.symbols(\"m_{\\mathrm{sm}}\")\n",
    "m_m = sym.symbols(\"m_{\\mathrm{m}}\")\n",
    "G = sym.symbols(\"\\mathrm{G}\")\n",
    "R_sm = sym.symbols(\"R_{\\mathrm{sm}}\")\n",
    "a_sm = sym.symbols(\"a_{\\mathrm{sm}}\")\n",
    "alpha_sm = sym.symbols(\"α_{\\mathrm{sm}}\")\n",
    "sign = sym.symbols(\"\\mathrm{sgn}\")\n",
    "Q_sm = sym.symbols(\"Q_{\\mathrm{sm}}\")"
   ]
  },
  {
   "cell_type": "code",
   "execution_count": 106,
   "id": "472b7409-27f4-4ab3-af35-d781127624e0",
   "metadata": {},
   "outputs": [],
   "source": [
    "# define auxiliary constants and formulas (Kepler relation)\n",
    "I_sm = alpha_sm * m_sm * R_sm**2\n",
    "zeta = m_m / m_sm * ( R_sm / a_sm )**3 * R_sm\n",
    "epsilon_2 = sym.Rational(5,3) * zeta * k_2_sm * 1 / R_sm\n",
    "mu = G*(m_m+m_sm) # standard gravitational parameter\n",
    "n_sm = mu**sym.Rational(1,2) * a_sm**sym.Rational(-3,2) # kepler's third law\n"
   ]
  },
  {
   "cell_type": "code",
   "execution_count": 107,
   "id": "62915b64-aa4e-4d7e-b8a2-bec2c4c3543b",
   "metadata": {},
   "outputs": [
    {
     "data": {
      "text/latex": [
       "$\\displaystyle - \\frac{3 R_{\\mathrm{sm}}^{3} \\mathrm{G} \\mathrm{sgn} k_{2\\mathrm{sm}} m_{\\mathrm{m}}^{2}}{2 Q_{\\mathrm{sm}} a_{\\mathrm{sm}}^{6} m_{\\mathrm{sm}} α_{\\mathrm{sm}}}$"
      ],
      "text/plain": [
       "-3*R_{\\mathrm{sm}}**3*\\mathrm{G}*\\mathrm{sgn}*k_{2\\mathrm{sm}}*m_{\\mathrm{m}}**2/(2*Q_{\\mathrm{sm}}*a_{\\mathrm{sm}}**6*m_{\\mathrm{sm}}*α_{\\mathrm{sm}})"
      ]
     },
     "execution_count": 107,
     "metadata": {},
     "output_type": "execute_result"
    }
   ],
   "source": [
    "# define expression derived from ELE for time derivative of spin frequency of submoon.\n",
    "expression_1 = -1 / I_sm * sym.Rational(9,10) * epsilon_2 * G * m_sm * m_m / a_sm**sym.Rational(3) * R_sm**sym.Rational(2,1) * sign * 1 / Q_sm\n",
    "expression_1"
   ]
  },
  {
   "cell_type": "code",
   "execution_count": 115,
   "id": "b2162c77-13b6-46a2-953b-70d972624bc1",
   "metadata": {},
   "outputs": [
    {
     "data": {
      "text/latex": [
       "$\\displaystyle - \\frac{3 R_{\\mathrm{sm}}^{3} \\mathrm{G} \\mathrm{sgn} k_{2\\mathrm{sm}} m_{\\mathrm{m}}^{2}}{2 Q_{\\mathrm{sm}} a_{\\mathrm{sm}}^{6} m_{\\mathrm{sm}} α_{\\mathrm{sm}}}$"
      ],
      "text/plain": [
       "-3*R_{\\mathrm{sm}}**3*\\mathrm{G}*\\mathrm{sgn}*k_{2\\mathrm{sm}}*m_{\\mathrm{m}}**2/(2*Q_{\\mathrm{sm}}*a_{\\mathrm{sm}}**6*m_{\\mathrm{sm}}*α_{\\mathrm{sm}})"
      ]
     },
     "execution_count": 115,
     "metadata": {},
     "output_type": "execute_result"
    }
   ],
   "source": [
    "# define expression derived in Murray and Dermott for time derivative of spin frequency of submoon.\n",
    "expression_2 = -sym.simplify(sign * sym.Rational(3,2) * k_2_sm / (alpha_sm*Q_sm) * (m_m**sym.Rational(2,1)*G)/(m_sm*mu)*(R_sm/a_sm)**sym.Rational(3,1) * n_sm**sym.Rational(2,1))\n",
    "expression_2"
   ]
  },
  {
   "cell_type": "code",
   "execution_count": 116,
   "id": "740c1ee2-e186-4fd5-85c4-2233a6a292a4",
   "metadata": {},
   "outputs": [
    {
     "data": {
      "text/latex": [
       "$\\displaystyle 0$"
      ],
      "text/plain": [
       "0"
      ]
     },
     "execution_count": 116,
     "metadata": {},
     "output_type": "execute_result"
    }
   ],
   "source": [
    "expression_1-expression_2"
   ]
  },
  {
   "cell_type": "code",
   "execution_count": null,
   "id": "6fa414a1-ce4d-4c65-b404-d33ece01b57b",
   "metadata": {},
   "outputs": [],
   "source": []
  }
 ],
 "metadata": {
  "kernelspec": {
   "display_name": "Python 3 (ipykernel)",
   "language": "python",
   "name": "python3"
  },
  "language_info": {
   "codemirror_mode": {
    "name": "ipython",
    "version": 3
   },
   "file_extension": ".py",
   "mimetype": "text/x-python",
   "name": "python",
   "nbconvert_exporter": "python",
   "pygments_lexer": "ipython3",
   "version": "3.8.8"
  }
 },
 "nbformat": 4,
 "nbformat_minor": 5
}
