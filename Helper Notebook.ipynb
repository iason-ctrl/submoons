{
 "cells": [
  {
   "cell_type": "code",
   "execution_count": 20,
   "id": "4a3e3d9d-4c75-4ab9-aae3-4e396f55de19",
   "metadata": {},
   "outputs": [],
   "source": [
    "# Application of Kepler's third law to the left hand side of the Euler-Lagrange-Equation for the orbit frequency variable\n",
    "\n",
    "import sympy as sym\n",
    "\n",
    "m_sm = sym.symbols(\"m_{\\mathrm{sm}}\")\n",
    "m_m = sym.symbols(\"m_{\\mathrm{m}}\")\n",
    "G = sym.symbols(\"\\mathrm{G}\")\n",
    "a_sm = sym.Function(\"a_{\\mathrm{sm}}\")(t)\n",
    "mu = sym.symbols(\"mu\") # standard gravitational parameter"
   ]
  },
  {
   "cell_type": "code",
   "execution_count": 21,
   "id": "cfbcb20b-c606-40bf-bf04-be0a69c17939",
   "metadata": {},
   "outputs": [],
   "source": [
    "n_sm = mu**sym.Rational(1,2) * a_sm**sym.Rational(-3,2) # kepler's third law"
   ]
  },
  {
   "cell_type": "code",
   "execution_count": 22,
   "id": "670a0789-19d0-44ba-bfcc-5b46f3b1b014",
   "metadata": {},
   "outputs": [
    {
     "data": {
      "text/latex": [
       "$\\displaystyle \\frac{m_{\\mathrm{sm}} \\sqrt{\\mu} \\frac{d}{d t} \\operatorname{a_{\\mathrm{sm}}}{\\left(t \\right)}}{2 \\sqrt{\\operatorname{a_{\\mathrm{sm}}}{\\left(t \\right)}}}$"
      ],
      "text/plain": [
       "m_{\\mathrm{sm}}*sqrt(mu)*Derivative(a_{\\mathrm{sm}}(t), t)/(2*sqrt(a_{\\mathrm{sm}}(t)))"
      ]
     },
     "execution_count": 22,
     "metadata": {},
     "output_type": "execute_result"
    }
   ],
   "source": [
    "m_sm *(2*n_sm*a_sm*sym.diff(a_sm,t)+a_sm**2*sym.diff(n_sm, t))"
   ]
  },
  {
   "cell_type": "code",
   "execution_count": null,
   "id": "d8dec23b-5dff-497c-9eae-afaf227c4023",
   "metadata": {},
   "outputs": [],
   "source": []
  }
 ],
 "metadata": {
  "kernelspec": {
   "display_name": "Python 3 (ipykernel)",
   "language": "python",
   "name": "python3"
  },
  "language_info": {
   "codemirror_mode": {
    "name": "ipython",
    "version": 3
   },
   "file_extension": ".py",
   "mimetype": "text/x-python",
   "name": "python",
   "nbconvert_exporter": "python",
   "pygments_lexer": "ipython3",
   "version": "3.8.8"
  }
 },
 "nbformat": 4,
 "nbformat_minor": 5
}
