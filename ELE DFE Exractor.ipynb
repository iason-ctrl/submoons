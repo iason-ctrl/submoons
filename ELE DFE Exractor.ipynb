{
 "cells": [
  {
   "cell_type": "code",
   "execution_count": 191,
   "id": "e672cb40-e73a-41de-9890-598e2ed15a82",
   "metadata": {},
   "outputs": [],
   "source": [
    "import sympy as sym \n",
    "from IPython.display import display, Math\n",
    "from itertools import islice # For non-continuous summation\n",
    "\n",
    "hierarchy = [\"\\mathrm{s}\", \"\\mathrm{p}\", \"\\mathrm{m}\", \"\\mathrm{sm}\"]\n",
    "hierarchy_names = [\"star\",\"planet\", \"moon\", \"submoon\"]\n",
    "\n",
    "def latex_this(expression):\n",
    "    display(Math(sym.latex(expression)))\n"
   ]
  },
  {
   "cell_type": "code",
   "execution_count": 192,
   "id": "7c7deaa2-ddf4-4235-a5bc-c44332010855",
   "metadata": {},
   "outputs": [],
   "source": [
    "# If you want to find the spin frequency equation set this to true, to false, if you want to find the orbit frequency equation\n",
    "find_spin_frequency_equation = False\n",
    "j = 4 # hierarchy number of body to calculate equations for. "
   ]
  },
  {
   "cell_type": "code",
   "execution_count": 193,
   "id": "47a95c73-7180-4cb3-abcd-c6dd48708902",
   "metadata": {},
   "outputs": [
    {
     "name": "stdout",
     "output_type": "stream",
     "text": [
      "\n",
      "Finding Equations for body in hierarchy number 4, index abbreviation \\mathrm{sm}, standing for submoon.\n",
      "\n",
      "The submoon is disturbed by bodies with hierarchy number 3  which stand for  moon  respectively. Abbreviated by  \\mathrm{m} .\n",
      "\n"
     ]
    }
   ],
   "source": [
    "index_abbreviation_disturbed_body = hierarchy[j-1]\n",
    "name_of_disturbed_body = hierarchy_names[j-1]\n",
    "\n",
    "if j-1==0:\n",
    "    neighbour_array = [1]\n",
    "elif j==len(hierarchy):\n",
    "    neighbour_array = [-1]\n",
    "else:\n",
    "    neighbour_array = [-1,1]\n",
    "    \n",
    "index_abbreviations_of_all_disturbing_bodies = [hierarchy[j-1+const] for const in neighbour_array] # All index abbreviations that tidally influence j.\n",
    "hierarchy_number_of_all_disturbing_bodies = [hierarchy.index(el)+1 for el in index_abbreviations_of_all_disturbing_bodies] # the actual associated hierarchy numbers \n",
    "names_of_all_disturbing_bodies = [hierarchy_names[i-1] for i in hierarchy_number_of_all_disturbing_bodies]\n",
    "\n",
    "\n",
    "print()\n",
    "print(f\"Finding Equations for body in hierarchy number {j}, index abbreviation {index_abbreviation_disturbed_body}, standing for {name_of_disturbed_body}.\")\n",
    "print()\n",
    "print(f\"The {name_of_disturbed_body} is disturbed by bodies with hierarchy number\",*hierarchy_number_of_all_disturbing_bodies,\n",
    "f\" which stand for \", *names_of_all_disturbing_bodies, \" respectively. Abbreviated by \", *index_abbreviations_of_all_disturbing_bodies, \".\")\n",
    "print()"
   ]
  },
  {
   "cell_type": "code",
   "execution_count": 194,
   "id": "fe0d108d-d8d4-4d28-8b36-01edb5407bc2",
   "metadata": {},
   "outputs": [
    {
     "name": "stdout",
     "output_type": "stream",
     "text": [
      "All coordinates that derivatives are taken with respect to: \n"
     ]
    },
    {
     "data": {
      "text/latex": [
       "$\\displaystyle \\varphi_{\\mathrm{sm}-\\mathrm{m}}$"
      ],
      "text/plain": [
       "<IPython.core.display.Math object>"
      ]
     },
     "metadata": {},
     "output_type": "display_data"
    }
   ],
   "source": [
    "\n",
    "k_val = min(hierarchy_number_of_all_disturbing_bodies) # k is the left neighbour of the disturbed body, i.e. the hierarchy number of the body\n",
    "    # the disturbed body orbits.\n",
    "\n",
    "# define coordinates that all derivatives are taken with respect to \n",
    "if not find_spin_frequency_equation:\n",
    "    # orbit frequency equation is found\n",
    "    list_of_q_j = [sym.symbols(r\"\\varphi_{\"+f\"{index_abbreviation_disturbed_body}-{hierarchy[k_val-1]}\"+\"}\")] \n",
    "else:\n",
    "    # spin frequency equation is found\n",
    "    list_of_q_j = [sym.symbols(fr\"\\psi_{index_abbreviation_disturbed_body}\")] \n",
    "\n",
    "print(\"All coordinates that derivatives are taken with respect to: \")\n",
    "for i in list_of_q_j:\n",
    "    latex_this(i)\n"
   ]
  },
  {
   "cell_type": "code",
   "execution_count": 195,
   "id": "331c6884-0441-4bb4-81b4-80a261b9a206",
   "metadata": {},
   "outputs": [],
   "source": [
    "# define the left hand side of the Euler-Lagrangian, dependent on whether the spin frequency or orbit frequency equation is looked for \n",
    "# For this firstly define necessary variables. \n",
    "\n",
    "# CONSTANTS \n",
    "m_j = sym.symbols(f\"m_{index_abbreviation_disturbed_body}\")\n",
    "R_j = sym.symbols(f\"R_{index_abbreviation_disturbed_body}\")\n",
    "k_2j = sym.symbols(\"k_{2\"+f\"{index_abbreviation_disturbed_body}\"+\"}\")\n",
    "G =  sym.symbols(\"\\mathrm{G}\")\n",
    "alpha_j = sym.symbols(f\"α_{index_abbreviation_disturbed_body}\")\n",
    "Q_j = sym.symbols(f\"Q_{index_abbreviation_disturbed_body}\")\n",
    "I_j = alpha_j*m_j*R_j**2\n",
    "a_i_j = sym.Function(\"a_{\"+f\"{index_abbreviation_disturbed_body}-{hierarchy[k_val-1]}\"+\"}\")(t)\n",
    "\n",
    "# TIME DEPENDENT VARIABLES\n",
    "t = sym.symbols(\"t\")\n",
    "Omega_j = sym.Function(f\"Ω_{index_abbreviation_disturbed_body}\")(t)\n",
    "\n",
    "\n",
    "# recursively defined quantities and functions of interest\n",
    "i = sym.symbols('i', integer=True) # summing index (values later in sum: all disturbing bodies index abbreviations)\n",
    "a = sym.IndexedBase('a_{'+f'{index_abbreviation_disturbed_body}'+'-}')\n",
    "n = sym.IndexedBase('n_{'+f'{index_abbreviation_disturbed_body}'+'-}')\n",
    "indices = hierarchy_number_of_all_disturbing_bodies\n",
    "disturber_mass = sym.IndexedBase(\"m\")\n",
    "\n",
    "if len(indices)==1:\n",
    "        # before taking the sum, properly define the lower and upper boundary by duplicating the indices array in necessary\n",
    "        indices = indices*2\n",
    "\n",
    "def signum(i):\n",
    "        return sym.Function(r\"\\mathrm{sgn}\")(Omega_j,n[i])\n",
    "\n",
    "    \n",
    "def kappa_constant(i):\n",
    "    # dependance on j vanishes because those variables are in the global namespace\n",
    "    return G*disturber_mass[i]**2*k_2j*R_j**5\n",
    "    \n",
    "\n",
    "def lambda_constant(i,k):\n",
    "    # dependance on j vanishes because those variables are in the global namespace\n",
    "    base_value = - sym.Rational(3,2) * kappa_constant(i) * 1 / Q_j * signum(i)\n",
    "    if find_spin_frequency_equation:\n",
    "        return base_value\n",
    "    if not find_spin_frequency_equation:\n",
    "        value = - base_value*sym.KroneckerDelta(i, k)\n",
    "        return value"
   ]
  },
  {
   "cell_type": "code",
   "execution_count": 216,
   "id": "998126cc-d380-497b-8953-e398faabc3f4",
   "metadata": {},
   "outputs": [],
   "source": [
    "if find_spin_frequency_equation:\n",
    "    \n",
    "    left_hand_side_ELE = Omega_j.diff(t)*I_j\n",
    "    right_hand_side_ELE = sym.Sum(lambda_constant(i,0) * a[i]**(-6), (i, indices)).doit() # k doesnt matter here\n",
    "\n",
    "if not find_spin_frequency_equation:\n",
    "\n",
    "    mu = sym.symbols(\"μ_{\"+f\"{index_abbreviation_disturbed_body}-{hierarchy[k_val-1]}\"+\"}\")\n",
    "    \n",
    "    left_hand_side_ELE = 1/2 * m_j * ((mu)/(a_i_j))**(sym.Rational(1/2))*a_i_j.diff(t)\n",
    "    right_hand_side_ELE = sym.Sum(lambda_constant(i,k=k_val) * a[i]**(-6), (i, indices)).doit()\n"
   ]
  },
  {
   "cell_type": "code",
   "execution_count": 217,
   "id": "e062af25-290a-48af-b866-03067e8305a8",
   "metadata": {},
   "outputs": [
    {
     "name": "stdout",
     "output_type": "stream",
     "text": [
      "\n",
      "Left Hand Side of ELE\n"
     ]
    },
    {
     "data": {
      "text/latex": [
       "$\\displaystyle 0.5 m_\\mathrm{sm} \\sqrt{\\frac{μ_{\\mathrm{sm}-\\mathrm{m}}}{\\operatorname{a_{\\mathrm{sm}-\\mathrm{m}}}{\\left(t \\right)}}} \\frac{d}{d t} \\operatorname{a_{\\mathrm{sm}-\\mathrm{m}}}{\\left(t \\right)}$"
      ],
      "text/plain": [
       "<IPython.core.display.Math object>"
      ]
     },
     "metadata": {},
     "output_type": "display_data"
    },
    {
     "name": "stdout",
     "output_type": "stream",
     "text": [
      "\n",
      "Corrected Right Hand Side of ELE\n"
     ]
    },
    {
     "data": {
      "text/latex": [
       "$\\displaystyle \\frac{3 R_\\mathrm{sm}^{5} \\mathrm{G} k_{2\\mathrm{sm}} \\mathrm{sgn}{\\left(\\operatorname{Ω_\\mathrm{sm}}{\\left(t \\right)},{n_{\\mathrm{sm}-}}_{3} \\right)} {m}_{3}^{2}}{2 Q_\\mathrm{sm} {a_{\\mathrm{sm}-}}_{3}^{6}}$"
      ],
      "text/plain": [
       "<IPython.core.display.Math object>"
      ]
     },
     "metadata": {},
     "output_type": "display_data"
    },
    {
     "name": "stdout",
     "output_type": "stream",
     "text": [
      "\n",
      "Setting Equal and Solving . . .\n",
      "\n"
     ]
    }
   ],
   "source": [
    "if len(indices)>1:\n",
    "    # remove those terms that are overcounting if there are two disturbers: (1,3) is treated as a range instead of actually summing over only 1 and 3\n",
    "    right_hand_side_ELE = right_hand_side_ELE.subs({disturber_mass[i]: 0 for i in range(indices[0],indices[1]+1) if i not in indices})\n",
    "\n",
    "print()\n",
    "print(\"Left Hand Side of ELE\")\n",
    "latex_this(left_hand_side_ELE)\n",
    "print()\n",
    "print(\"Corrected Right Hand Side of ELE\")\n",
    "latex_this(right_hand_side_ELE)\n",
    "print()\n",
    "print(\"Setting Equal and Solving . . .\")\n",
    "print()\n",
    "    "
   ]
  },
  {
   "cell_type": "code",
   "execution_count": 220,
   "id": "27a71e99-bbdd-4320-b63c-6b2247945ca2",
   "metadata": {},
   "outputs": [
    {
     "name": "stdout",
     "output_type": "stream",
     "text": [
      "Equation to solve: \n",
      "\n"
     ]
    },
    {
     "data": {
      "text/latex": [
       "$\\displaystyle 0.5 m_\\mathrm{sm} \\sqrt{\\frac{μ_{\\mathrm{sm}-\\mathrm{m}}}{\\operatorname{a_{\\mathrm{sm}-\\mathrm{m}}}{\\left(t \\right)}}} \\frac{d}{d t} \\operatorname{a_{\\mathrm{sm}-\\mathrm{m}}}{\\left(t \\right)} = \\frac{3 R_\\mathrm{sm}^{5} \\mathrm{G} k_{2\\mathrm{sm}} \\mathrm{sgn}{\\left(\\operatorname{Ω_\\mathrm{sm}}{\\left(t \\right)},{n_{\\mathrm{sm}-}}_{3} \\right)} {m}_{3}^{2}}{2 Q_\\mathrm{sm} {a_{\\mathrm{sm}-}}_{3}^{6}}$"
      ],
      "text/plain": [
       "<IPython.core.display.Math object>"
      ]
     },
     "metadata": {},
     "output_type": "display_data"
    },
    {
     "name": "stdout",
     "output_type": "stream",
     "text": [
      "\n",
      "\n",
      "Solution:\n"
     ]
    },
    {
     "data": {
      "text/latex": [
       "$\\displaystyle \\frac{d}{d t} \\operatorname{a_{\\mathrm{sm}-\\mathrm{m}}}{\\left(t \\right)}=\\frac{3.0 R_\\mathrm{sm}^{5} k_{2\\mathrm{sm}} μ_{\\mathrm{sm}-\\mathrm{m}} \\mathrm{sgn}{\\left(\\operatorname{Ω_\\mathrm{sm}}{\\left(t \\right)},{n_{\\mathrm{sm}-}}_{3} \\right)} {m}_{3}}{Q_\\mathrm{sm} m_\\mathrm{sm} \\sqrt{\\frac{μ_{\\mathrm{sm}-\\mathrm{m}}}{\\operatorname{a_{\\mathrm{sm}-\\mathrm{m}}}{\\left(t \\right)}}} {a_{\\mathrm{sm}-}}_{3}^{6}}$"
      ],
      "text/plain": [
       "<IPython.core.display.Math object>"
      ]
     },
     "metadata": {},
     "output_type": "display_data"
    }
   ],
   "source": [
    "equation = sym.Eq(left_hand_side_ELE, right_hand_side_ELE)\n",
    "print(\"Equation to solve: \")\n",
    "print()\n",
    "latex_this(equation)\n",
    "if find_spin_frequency_equation:\n",
    "    solution = sym.solve(equation, Omega_j.diff(t))\n",
    "    print()\n",
    "    print()\n",
    "    print(\"Solution:\")\n",
    "    display(Math(sym.latex(Omega_j.diff(t))+\"=\"+sym.latex(solution[0])))\n",
    "if not find_spin_frequency_equation:\n",
    "    solution = sym.solve(equation, a_i_j.diff(t))\n",
    "    tweaked_right_hand_side = solution[0].subs(G,mu/disturber_mass[k_val]) # Replace G with mu expression, approximating G(m_small + m_big)\\approx G m_big \n",
    "    \n",
    "    print()\n",
    "    print()\n",
    "    print(\"Solution:\")\n",
    "    display(Math(sym.latex(a_i_j.diff(t))+\"=\"+sym.latex(tweaked_right_hand_side)))\n",
    "\n",
    "\n",
    "\n",
    "\n"
   ]
  },
  {
   "cell_type": "code",
   "execution_count": null,
   "id": "b04bef74-604e-455a-a902-29b4a9243b54",
   "metadata": {},
   "outputs": [],
   "source": []
  }
 ],
 "metadata": {
  "kernelspec": {
   "display_name": "Python 3 (ipykernel)",
   "language": "python",
   "name": "python3"
  },
  "language_info": {
   "codemirror_mode": {
    "name": "ipython",
    "version": 3
   },
   "file_extension": ".py",
   "mimetype": "text/x-python",
   "name": "python",
   "nbconvert_exporter": "python",
   "pygments_lexer": "ipython3",
   "version": "3.8.8"
  }
 },
 "nbformat": 4,
 "nbformat_minor": 5
}
